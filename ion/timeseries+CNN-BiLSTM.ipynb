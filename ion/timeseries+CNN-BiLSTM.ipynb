{
  "nbformat": 4,
  "nbformat_minor": 0,
  "metadata": {
    "colab": {
      "name": "S+P Week 4 Lesson 1.ipynb",
      "provenance": [],
      "collapsed_sections": []
    },
    "kernelspec": {
      "display_name": "Python 3",
      "name": "python3"
    }
  },
  "cells": [
    {
      "cell_type": "code",
      "metadata": {
        "id": "zX4Kg8DUTKWO",
        "colab_type": "code",
        "colab": {},
        "cellView": "form"
      },
      "source": [
        "#@title Licensed under the Apache License, Version 2.0 (the \"License\");\n",
        "# you may not use this file except in compliance with the License.\n",
        "# You may obtain a copy of the License at\n",
        "#\n",
        "# https://www.apache.org/licenses/LICENSE-2.0\n",
        "#\n",
        "# Unless required by applicable law or agreed to in writing, software\n",
        "# distributed under the License is distributed on an \"AS IS\" BASIS,\n",
        "# WITHOUT WARRANTIES OR CONDITIONS OF ANY KIND, either express or implied.\n",
        "# See the License for the specific language governing permissions and\n",
        "# limitations under the License."
      ],
      "execution_count": 0,
      "outputs": []
    },
    {
      "cell_type": "markdown",
      "metadata": {
        "colab_type": "text",
        "id": "view-in-github"
      },
      "source": [
        "<a href=\"https://colab.research.google.com/github/lmoroney/dlaicourse/blob/master/TensorFlow%20In%20Practice/Course%204%20-%20S%2BP/S%2BP%20Week%204%20Lesson%201.ipynb\" target=\"_parent\"><img src=\"https://colab.research.google.com/assets/colab-badge.svg\" alt=\"Open In Colab\"/></a>"
      ]
    },
    {
      "cell_type": "code",
      "metadata": {
        "cellView": "both",
        "colab_type": "code",
        "id": "D1J15Vh_1Jih",
        "colab": {}
      },
      "source": [
        "try:\n",
        "  # %tensorflow_version only exists in Colab.\n",
        "  %tensorflow_version 2.x\n",
        "except Exception:\n",
        "  pass\n"
      ],
      "execution_count": 0,
      "outputs": []
    },
    {
      "cell_type": "code",
      "metadata": {
        "colab_type": "code",
        "id": "BOjujz601HcS",
        "colab": {
          "base_uri": "https://localhost:8080/",
          "height": 34
        },
        "outputId": "008ee106-2617-4993-91ef-23d0f4a5f4c2"
      },
      "source": [
        "import tensorflow as tf\n",
        "import numpy as np\n",
        "import matplotlib.pyplot as plt\n",
        "print(tf.__version__)"
      ],
      "execution_count": 2,
      "outputs": [
        {
          "output_type": "stream",
          "text": [
            "2.2.0-rc3\n"
          ],
          "name": "stdout"
        }
      ]
    },
    {
      "cell_type": "code",
      "metadata": {
        "colab_type": "code",
        "id": "Zswl7jRtGzkk",
        "colab": {}
      },
      "source": [
        "def plot_series(time, series, format=\"-\", start=0, end=None):\n",
        "    plt.plot(time[start:end], series[start:end], format)\n",
        "    plt.xlabel(\"Time\")\n",
        "    plt.ylabel(\"Value\")\n",
        "    plt.grid(True)\n",
        "\n",
        "\n",
        "def seasonal_pattern(season_time):\n",
        "    \"\"\"Just an arbitrary pattern, you can change it if you wish\"\"\"\n",
        "    return np.where(season_time < 0.4,\n",
        "                    np.cos(season_time * 2 * np.pi),\n",
        "                    1 / np.exp(3 * season_time))\n",
        "\n",
        "def trend(time, slope=0):\n",
        "    return slope * time\n",
        "\n",
        "def seasonality(time, period, amplitude=1, phase=0):\n",
        "    \"\"\"Repeats the same pattern at each period\"\"\"\n",
        "    season_time = ((time + phase) % period) / period\n",
        "    return amplitude * seasonal_pattern(season_time)\n",
        "\n",
        "def noise(time, noise_level=1, seed=None):\n",
        "    rnd = np.random.RandomState(seed)\n",
        "    return rnd.randn(len(time)) * noise_level\n",
        "\n",
        "time = np.arange(4 * 365 + 1, dtype=\"float32\")#4 years, basic unit = 1 day\n",
        "baseline = 10\n",
        "series = trend(time, 0.1)  \n",
        "baseline = 10\n",
        "amplitude = 40\n",
        "slope = 0.05 #positive slope indicates increasing trend and negative indicates a decreasing one.\n",
        "noise_level = 5\n",
        "\n",
        "# Create the series\n",
        "series = baseline + trend(time, slope) + seasonality(time, period=365, amplitude=amplitude)\n",
        "# Update with noise\n",
        "series += noise(time, noise_level, seed=42)\n",
        "\n",
        "split_time = 1000\n",
        "time_train = time[:split_time]\n",
        "x_train = series[:split_time]\n",
        "time_valid = time[split_time:]\n",
        "x_valid = series[split_time:]\n",
        "\n",
        "window_size = 20\n",
        "batch_size = 32\n",
        "shuffle_buffer_size = 1000"
      ],
      "execution_count": 0,
      "outputs": []
    },
    {
      "cell_type": "code",
      "metadata": {
        "colab_type": "code",
        "id": "4sTTIOCbyShY",
        "colab": {}
      },
      "source": [
        "def windowed_dataset(series, window_size, batch_size, shuffle_buffer):\n",
        "    series = tf.expand_dims(series, axis=-1)\n",
        "    ds = tf.data.Dataset.from_tensor_slices(series)\n",
        "    ds = ds.window(window_size + 1, shift=1, drop_remainder=True)\n",
        "    ds = ds.flat_map(lambda w: w.batch(window_size + 1))\n",
        "    ds = ds.shuffle(shuffle_buffer)\n",
        "    ds = ds.map(lambda w: (w[:-1], w[1:]))\n",
        "    return ds.batch(batch_size).prefetch(1)"
      ],
      "execution_count": 0,
      "outputs": []
    },
    {
      "cell_type": "code",
      "metadata": {
        "colab_type": "code",
        "id": "_eaAX9g_jS5W",
        "colab": {}
      },
      "source": [
        "def model_forecast(model, series, window_size):\n",
        "    ds = tf.data.Dataset.from_tensor_slices(series)\n",
        "    ds = ds.window(window_size, shift=1, drop_remainder=True)\n",
        "    ds = ds.flat_map(lambda w: w.batch(window_size))\n",
        "    ds = ds.batch(32).prefetch(1)\n",
        "    forecast = model.predict(ds)\n",
        "    return forecast"
      ],
      "execution_count": 0,
      "outputs": []
    },
    {
      "cell_type": "code",
      "metadata": {
        "colab_type": "code",
        "id": "Yqc2GTsps0qf",
        "colab": {
          "base_uri": "https://localhost:8080/",
          "height": 1000
        },
        "outputId": "126d9347-f277-4d9c-dd07-16d01d3a9940"
      },
      "source": [
        "tf.keras.backend.clear_session()\n",
        "tf.random.set_seed(51)\n",
        "np.random.seed(51)\n",
        "\n",
        "window_size = 30\n",
        "train_set = windowed_dataset(x_train, window_size, batch_size=128, shuffle_buffer=shuffle_buffer_size)\n",
        "\n",
        "model = tf.keras.models.Sequential([\n",
        "  tf.keras.layers.Conv1D(filters=32, kernel_size=5,\n",
        "                      strides=1, padding=\"causal\",\n",
        "                      activation=\"relu\",\n",
        "                      input_shape=[None, 1]),\n",
        "  tf.keras.layers.Bidirectional(tf.keras.layers.LSTM(32, return_sequences=True)),\n",
        "  tf.keras.layers.Bidirectional(tf.keras.layers.LSTM(32, return_sequences=True)),\n",
        "  tf.keras.layers.Dense(1),\n",
        "  tf.keras.layers.Lambda(lambda x: x * 200)\n",
        "])\n",
        "lr_schedule = tf.keras.callbacks.LearningRateScheduler(lambda epoch: 1e-8 * 10**(epoch / 20))\n",
        "optimizer = tf.keras.optimizers.SGD(lr=1e-8, momentum=0.9)\n",
        "model.compile(loss=tf.keras.losses.Huber(),\n",
        "              optimizer=optimizer,\n",
        "              metrics=[\"mae\"])\n",
        "history = model.fit(train_set, epochs=100, callbacks=[lr_schedule])"
      ],
      "execution_count": 9,
      "outputs": [
        {
          "output_type": "stream",
          "text": [
            "Epoch 1/100\n",
            "8/8 [==============================] - 1s 73ms/step - loss: 73.0890 - mae: 73.6903 - lr: 1.0000e-08\n",
            "Epoch 2/100\n",
            "8/8 [==============================] - 1s 63ms/step - loss: 72.3989 - mae: 72.9791 - lr: 1.1220e-08\n",
            "Epoch 3/100\n",
            "8/8 [==============================] - 1s 65ms/step - loss: 71.2658 - mae: 71.8437 - lr: 1.2589e-08\n",
            "Epoch 4/100\n",
            "8/8 [==============================] - 0s 62ms/step - loss: 69.9219 - mae: 70.4223 - lr: 1.4125e-08\n",
            "Epoch 5/100\n",
            "8/8 [==============================] - 1s 65ms/step - loss: 68.1933 - mae: 68.7669 - lr: 1.5849e-08\n",
            "Epoch 6/100\n",
            "8/8 [==============================] - 1s 65ms/step - loss: 66.3502 - mae: 66.8609 - lr: 1.7783e-08\n",
            "Epoch 7/100\n",
            "8/8 [==============================] - 1s 63ms/step - loss: 64.1250 - mae: 64.7424 - lr: 1.9953e-08\n",
            "Epoch 8/100\n",
            "8/8 [==============================] - 1s 64ms/step - loss: 61.7886 - mae: 62.3738 - lr: 2.2387e-08\n",
            "Epoch 9/100\n",
            "8/8 [==============================] - 1s 65ms/step - loss: 59.2632 - mae: 59.7479 - lr: 2.5119e-08\n",
            "Epoch 10/100\n",
            "8/8 [==============================] - 1s 65ms/step - loss: 56.1654 - mae: 56.8254 - lr: 2.8184e-08\n",
            "Epoch 11/100\n",
            "8/8 [==============================] - 1s 64ms/step - loss: 53.0884 - mae: 53.5686 - lr: 3.1623e-08\n",
            "Epoch 12/100\n",
            "8/8 [==============================] - 1s 67ms/step - loss: 49.2092 - mae: 49.8849 - lr: 3.5481e-08\n",
            "Epoch 13/100\n",
            "8/8 [==============================] - 1s 64ms/step - loss: 44.9371 - mae: 45.6165 - lr: 3.9811e-08\n",
            "Epoch 14/100\n",
            "8/8 [==============================] - 1s 65ms/step - loss: 41.6446 - mae: 42.1518 - lr: 4.4668e-08\n",
            "Epoch 15/100\n",
            "8/8 [==============================] - 1s 66ms/step - loss: 40.6866 - mae: 41.1322 - lr: 5.0119e-08\n",
            "Epoch 16/100\n",
            "8/8 [==============================] - 1s 63ms/step - loss: 39.5321 - mae: 40.0100 - lr: 5.6234e-08\n",
            "Epoch 17/100\n",
            "8/8 [==============================] - 1s 64ms/step - loss: 38.0972 - mae: 38.5985 - lr: 6.3096e-08\n",
            "Epoch 18/100\n",
            "8/8 [==============================] - 1s 63ms/step - loss: 36.5251 - mae: 37.0279 - lr: 7.0795e-08\n",
            "Epoch 19/100\n",
            "8/8 [==============================] - 1s 65ms/step - loss: 34.9439 - mae: 35.4641 - lr: 7.9433e-08\n",
            "Epoch 20/100\n",
            "8/8 [==============================] - 1s 66ms/step - loss: 33.5469 - mae: 34.0347 - lr: 8.9125e-08\n",
            "Epoch 21/100\n",
            "8/8 [==============================] - 1s 65ms/step - loss: 32.2805 - mae: 32.7321 - lr: 1.0000e-07\n",
            "Epoch 22/100\n",
            "8/8 [==============================] - 1s 63ms/step - loss: 31.0842 - mae: 31.5469 - lr: 1.1220e-07\n",
            "Epoch 23/100\n",
            "8/8 [==============================] - 1s 64ms/step - loss: 29.8753 - mae: 30.4202 - lr: 1.2589e-07\n",
            "Epoch 24/100\n",
            "8/8 [==============================] - 1s 65ms/step - loss: 28.7570 - mae: 29.3274 - lr: 1.4125e-07\n",
            "Epoch 25/100\n",
            "8/8 [==============================] - 1s 63ms/step - loss: 27.7100 - mae: 28.2272 - lr: 1.5849e-07\n",
            "Epoch 26/100\n",
            "8/8 [==============================] - 1s 64ms/step - loss: 26.6145 - mae: 27.1066 - lr: 1.7783e-07\n",
            "Epoch 27/100\n",
            "8/8 [==============================] - 1s 66ms/step - loss: 25.4463 - mae: 25.9519 - lr: 1.9953e-07\n",
            "Epoch 28/100\n",
            "8/8 [==============================] - 0s 62ms/step - loss: 24.2614 - mae: 24.7617 - lr: 2.2387e-07\n",
            "Epoch 29/100\n",
            "8/8 [==============================] - 1s 65ms/step - loss: 23.1149 - mae: 23.5406 - lr: 2.5119e-07\n",
            "Epoch 30/100\n",
            "8/8 [==============================] - 1s 65ms/step - loss: 21.7072 - mae: 22.3000 - lr: 2.8184e-07\n",
            "Epoch 31/100\n",
            "8/8 [==============================] - 1s 64ms/step - loss: 20.4666 - mae: 21.0202 - lr: 3.1623e-07\n",
            "Epoch 32/100\n",
            "8/8 [==============================] - 1s 63ms/step - loss: 19.2616 - mae: 19.7269 - lr: 3.5481e-07\n",
            "Epoch 33/100\n",
            "8/8 [==============================] - 1s 64ms/step - loss: 17.9322 - mae: 18.4568 - lr: 3.9811e-07\n",
            "Epoch 34/100\n",
            "8/8 [==============================] - 1s 63ms/step - loss: 16.9415 - mae: 17.4279 - lr: 4.4668e-07\n",
            "Epoch 35/100\n",
            "8/8 [==============================] - 1s 64ms/step - loss: 16.2294 - mae: 16.7576 - lr: 5.0119e-07\n",
            "Epoch 36/100\n",
            "8/8 [==============================] - 1s 70ms/step - loss: 15.6193 - mae: 16.1192 - lr: 5.6234e-07\n",
            "Epoch 37/100\n",
            "8/8 [==============================] - 0s 62ms/step - loss: 15.0907 - mae: 15.5447 - lr: 6.3096e-07\n",
            "Epoch 38/100\n",
            "8/8 [==============================] - 1s 64ms/step - loss: 14.4571 - mae: 15.0126 - lr: 7.0795e-07\n",
            "Epoch 39/100\n",
            "8/8 [==============================] - 1s 65ms/step - loss: 13.9684 - mae: 14.4747 - lr: 7.9433e-07\n",
            "Epoch 40/100\n",
            "8/8 [==============================] - 0s 62ms/step - loss: 13.4168 - mae: 13.9318 - lr: 8.9125e-07\n",
            "Epoch 41/100\n",
            "8/8 [==============================] - 0s 62ms/step - loss: 12.8374 - mae: 13.3677 - lr: 1.0000e-06\n",
            "Epoch 42/100\n",
            "8/8 [==============================] - 1s 65ms/step - loss: 12.2358 - mae: 12.7749 - lr: 1.1220e-06\n",
            "Epoch 43/100\n",
            "8/8 [==============================] - 0s 61ms/step - loss: 11.6425 - mae: 12.1582 - lr: 1.2589e-06\n",
            "Epoch 44/100\n",
            "8/8 [==============================] - 1s 63ms/step - loss: 10.9837 - mae: 11.5063 - lr: 1.4125e-06\n",
            "Epoch 45/100\n",
            "8/8 [==============================] - 1s 65ms/step - loss: 10.3514 - mae: 10.8260 - lr: 1.5849e-06\n",
            "Epoch 46/100\n",
            "8/8 [==============================] - 1s 63ms/step - loss: 9.6914 - mae: 10.1757 - lr: 1.7783e-06\n",
            "Epoch 47/100\n",
            "8/8 [==============================] - 0s 62ms/step - loss: 9.0673 - mae: 9.5809 - lr: 1.9953e-06\n",
            "Epoch 48/100\n",
            "8/8 [==============================] - 1s 65ms/step - loss: 8.5389 - mae: 9.0536 - lr: 2.2387e-06\n",
            "Epoch 49/100\n",
            "8/8 [==============================] - 1s 64ms/step - loss: 8.1012 - mae: 8.5996 - lr: 2.5119e-06\n",
            "Epoch 50/100\n",
            "8/8 [==============================] - 1s 64ms/step - loss: 7.6740 - mae: 8.1884 - lr: 2.8184e-06\n",
            "Epoch 51/100\n",
            "8/8 [==============================] - 1s 67ms/step - loss: 7.3291 - mae: 7.8096 - lr: 3.1623e-06\n",
            "Epoch 52/100\n",
            "8/8 [==============================] - 0s 62ms/step - loss: 6.9322 - mae: 7.4548 - lr: 3.5481e-06\n",
            "Epoch 53/100\n",
            "8/8 [==============================] - 1s 64ms/step - loss: 6.6026 - mae: 7.1033 - lr: 3.9811e-06\n",
            "Epoch 54/100\n",
            "8/8 [==============================] - 1s 64ms/step - loss: 6.2764 - mae: 6.7712 - lr: 4.4668e-06\n",
            "Epoch 55/100\n",
            "8/8 [==============================] - 1s 63ms/step - loss: 5.9507 - mae: 6.4581 - lr: 5.0119e-06\n",
            "Epoch 56/100\n",
            "8/8 [==============================] - 1s 66ms/step - loss: 5.6931 - mae: 6.1898 - lr: 5.6234e-06\n",
            "Epoch 57/100\n",
            "8/8 [==============================] - 1s 65ms/step - loss: 5.4038 - mae: 5.8992 - lr: 6.3096e-06\n",
            "Epoch 58/100\n",
            "8/8 [==============================] - 0s 62ms/step - loss: 5.1989 - mae: 5.6904 - lr: 7.0795e-06\n",
            "Epoch 59/100\n",
            "8/8 [==============================] - 1s 65ms/step - loss: 4.9918 - mae: 5.4558 - lr: 7.9433e-06\n",
            "Epoch 60/100\n",
            "8/8 [==============================] - 1s 64ms/step - loss: 4.8623 - mae: 5.3438 - lr: 8.9125e-06\n",
            "Epoch 61/100\n",
            "8/8 [==============================] - 1s 63ms/step - loss: 4.7734 - mae: 5.2711 - lr: 1.0000e-05\n",
            "Epoch 62/100\n",
            "8/8 [==============================] - 1s 65ms/step - loss: 4.6122 - mae: 5.0814 - lr: 1.1220e-05\n",
            "Epoch 63/100\n",
            "8/8 [==============================] - 1s 65ms/step - loss: 4.7544 - mae: 5.2667 - lr: 1.2589e-05\n",
            "Epoch 64/100\n",
            "8/8 [==============================] - 1s 64ms/step - loss: 5.3384 - mae: 5.8746 - lr: 1.4125e-05\n",
            "Epoch 65/100\n",
            "8/8 [==============================] - 1s 65ms/step - loss: 5.9429 - mae: 6.3541 - lr: 1.5849e-05\n",
            "Epoch 66/100\n",
            "8/8 [==============================] - 1s 66ms/step - loss: 5.9454 - mae: 6.4231 - lr: 1.7783e-05\n",
            "Epoch 67/100\n",
            "8/8 [==============================] - 1s 68ms/step - loss: 4.9767 - mae: 5.4693 - lr: 1.9953e-05\n",
            "Epoch 68/100\n",
            "8/8 [==============================] - 1s 64ms/step - loss: 4.9050 - mae: 5.4281 - lr: 2.2387e-05\n",
            "Epoch 69/100\n",
            "8/8 [==============================] - 1s 64ms/step - loss: 5.4807 - mae: 6.0056 - lr: 2.5119e-05\n",
            "Epoch 70/100\n",
            "8/8 [==============================] - 1s 64ms/step - loss: 6.1757 - mae: 6.7472 - lr: 2.8184e-05\n",
            "Epoch 71/100\n",
            "8/8 [==============================] - 1s 63ms/step - loss: 5.9957 - mae: 6.3982 - lr: 3.1623e-05\n",
            "Epoch 72/100\n",
            "8/8 [==============================] - 1s 64ms/step - loss: 6.6889 - mae: 7.1889 - lr: 3.5481e-05\n",
            "Epoch 73/100\n",
            "8/8 [==============================] - 1s 64ms/step - loss: 6.9781 - mae: 7.3530 - lr: 3.9811e-05\n",
            "Epoch 74/100\n",
            "8/8 [==============================] - 1s 64ms/step - loss: 7.2737 - mae: 7.5207 - lr: 4.4668e-05\n",
            "Epoch 75/100\n",
            "8/8 [==============================] - 1s 65ms/step - loss: 8.8958 - mae: 9.5681 - lr: 5.0119e-05\n",
            "Epoch 76/100\n",
            "8/8 [==============================] - 1s 65ms/step - loss: 28.3908 - mae: 29.2346 - lr: 5.6234e-05\n",
            "Epoch 77/100\n",
            "8/8 [==============================] - 1s 64ms/step - loss: 30.3162 - mae: 30.1218 - lr: 6.3096e-05\n",
            "Epoch 78/100\n",
            "8/8 [==============================] - 1s 64ms/step - loss: 21.5194 - mae: 22.3246 - lr: 7.0795e-05\n",
            "Epoch 79/100\n",
            "8/8 [==============================] - 1s 64ms/step - loss: 11.7225 - mae: 12.5116 - lr: 7.9433e-05\n",
            "Epoch 80/100\n",
            "8/8 [==============================] - 1s 65ms/step - loss: 9.0473 - mae: 9.7718 - lr: 8.9125e-05\n",
            "Epoch 81/100\n",
            "8/8 [==============================] - 1s 65ms/step - loss: 9.4669 - mae: 10.1946 - lr: 1.0000e-04\n",
            "Epoch 82/100\n",
            "8/8 [==============================] - 1s 64ms/step - loss: 16.9401 - mae: 18.0038 - lr: 1.1220e-04\n",
            "Epoch 83/100\n",
            "8/8 [==============================] - 1s 65ms/step - loss: 36.0917 - mae: 36.6898 - lr: 1.2589e-04\n",
            "Epoch 84/100\n",
            "8/8 [==============================] - 1s 65ms/step - loss: 19.5607 - mae: 18.5904 - lr: 1.4125e-04\n",
            "Epoch 85/100\n",
            "8/8 [==============================] - 1s 63ms/step - loss: 9.5920 - mae: 10.2230 - lr: 1.5849e-04\n",
            "Epoch 86/100\n",
            "8/8 [==============================] - 1s 64ms/step - loss: 12.9448 - mae: 12.5122 - lr: 1.7783e-04\n",
            "Epoch 87/100\n",
            "8/8 [==============================] - 0s 62ms/step - loss: 27.4098 - mae: 27.8019 - lr: 1.9953e-04\n",
            "Epoch 88/100\n",
            "8/8 [==============================] - 1s 64ms/step - loss: 31.2063 - mae: 31.9609 - lr: 2.2387e-04\n",
            "Epoch 89/100\n",
            "8/8 [==============================] - 1s 67ms/step - loss: 15.8891 - mae: 16.7273 - lr: 2.5119e-04\n",
            "Epoch 90/100\n",
            "8/8 [==============================] - 1s 64ms/step - loss: 12.1077 - mae: 12.5842 - lr: 2.8184e-04\n",
            "Epoch 91/100\n",
            "8/8 [==============================] - 1s 63ms/step - loss: 17.3465 - mae: 17.3900 - lr: 3.1623e-04\n",
            "Epoch 92/100\n",
            "8/8 [==============================] - 1s 64ms/step - loss: 18.8590 - mae: 19.0247 - lr: 3.5481e-04\n",
            "Epoch 93/100\n",
            "8/8 [==============================] - 1s 97ms/step - loss: 16.9832 - mae: 17.6671 - lr: 3.9811e-04\n",
            "Epoch 94/100\n",
            "8/8 [==============================] - 1s 119ms/step - loss: 12.2025 - mae: 12.9102 - lr: 4.4668e-04\n",
            "Epoch 95/100\n",
            "8/8 [==============================] - 1s 112ms/step - loss: 9.5713 - mae: 9.7477 - lr: 5.0119e-04\n",
            "Epoch 96/100\n",
            "8/8 [==============================] - 1s 115ms/step - loss: 14.8276 - mae: 15.2868 - lr: 5.6234e-04\n",
            "Epoch 97/100\n",
            "8/8 [==============================] - 1s 112ms/step - loss: 13.8037 - mae: 14.3515 - lr: 6.3096e-04\n",
            "Epoch 98/100\n",
            "8/8 [==============================] - 1s 115ms/step - loss: 11.1095 - mae: 11.8604 - lr: 7.0795e-04\n",
            "Epoch 99/100\n",
            "8/8 [==============================] - 1s 115ms/step - loss: 14.7159 - mae: 14.5912 - lr: 7.9433e-04\n",
            "Epoch 100/100\n",
            "8/8 [==============================] - 1s 115ms/step - loss: 26.6296 - mae: 27.2581 - lr: 8.9125e-04\n"
          ],
          "name": "stdout"
        }
      ]
    },
    {
      "cell_type": "code",
      "metadata": {
        "colab_type": "code",
        "id": "MjTvASUns0qh",
        "colab": {
          "base_uri": "https://localhost:8080/",
          "height": 290
        },
        "outputId": "72c45fd1-9233-4136-c253-7591fffe58f6"
      },
      "source": [
        "plt.semilogx(history.history[\"lr\"], history.history[\"loss\"])\n",
        "plt.axis([1e-8, 1e-4, 0, 30])"
      ],
      "execution_count": 10,
      "outputs": [
        {
          "output_type": "execute_result",
          "data": {
            "text/plain": [
              "(1e-08, 0.0001, 0.0, 30.0)"
            ]
          },
          "metadata": {
            "tags": []
          },
          "execution_count": 10
        },
        {
          "output_type": "display_data",
          "data": {
            "image/png": "[encoded data removed]",
            "text/plain": [
              "<Figure size 432x288 with 1 Axes>"
            ]
          },
          "metadata": {
            "tags": [],
            "needs_background": "light"
          }
        }
      ]
    },
    {
      "cell_type": "code",
      "metadata": {
        "colab_type": "code",
        "id": "4uh-97bpLZCA",
        "colab": {
          "base_uri": "https://localhost:8080/",
          "height": 1000
        },
        "outputId": "7609fa68-efe9-462c-a5b6-12394858020e"
      },
      "source": [
        "tf.keras.backend.clear_session()\n",
        "tf.random.set_seed(51)\n",
        "np.random.seed(51)\n",
        "#batch_size = 16\n",
        "dataset = windowed_dataset(x_train, window_size, batch_size, shuffle_buffer_size)\n",
        "\n",
        "model = tf.keras.models.Sequential([\n",
        "  tf.keras.layers.Conv1D(filters=32, kernel_size=3,\n",
        "                      strides=1, padding=\"causal\",\n",
        "                      activation=\"relu\",\n",
        "                      input_shape=[None, 1]),\n",
        "  tf.keras.layers.LSTM(32, return_sequences=True),\n",
        "  tf.keras.layers.LSTM(32, return_sequences=True),\n",
        "  tf.keras.layers.Dense(1),\n",
        "  tf.keras.layers.Lambda(lambda x: x * 200)\n",
        "])\n",
        "\n",
        "optimizer = tf.keras.optimizers.SGD(lr=1e-5, momentum=0.9)\n",
        "model.compile(loss=tf.keras.losses.Huber(),\n",
        "              optimizer=optimizer,\n",
        "              metrics=[\"mae\"])\n",
        "history = model.fit(dataset,epochs=50)"
      ],
      "execution_count": 11,
      "outputs": [
        {
          "output_type": "stream",
          "text": [
            "Epoch 1/50\n",
            "31/31 [==============================] - 1s 26ms/step - loss: 19.8482 - mae: 20.5646\n",
            "Epoch 2/50\n",
            "31/31 [==============================] - 1s 28ms/step - loss: 7.8943 - mae: 8.4048\n",
            "Epoch 3/50\n",
            "31/31 [==============================] - 1s 27ms/step - loss: 6.7102 - mae: 7.1533\n",
            "Epoch 4/50\n",
            "31/31 [==============================] - 1s 27ms/step - loss: 6.1493 - mae: 6.6477\n",
            "Epoch 5/50\n",
            "31/31 [==============================] - 1s 28ms/step - loss: 5.7267 - mae: 6.1947\n",
            "Epoch 6/50\n",
            "31/31 [==============================] - 1s 27ms/step - loss: 5.6673 - mae: 6.1493\n",
            "Epoch 7/50\n",
            "31/31 [==============================] - 1s 27ms/step - loss: 5.5072 - mae: 5.9846\n",
            "Epoch 8/50\n",
            "31/31 [==============================] - 1s 28ms/step - loss: 5.4730 - mae: 5.9692\n",
            "Epoch 9/50\n",
            "31/31 [==============================] - 1s 27ms/step - loss: 5.5270 - mae: 6.0236\n",
            "Epoch 10/50\n",
            "31/31 [==============================] - 1s 27ms/step - loss: 5.2280 - mae: 5.7178\n",
            "Epoch 11/50\n",
            "31/31 [==============================] - 1s 27ms/step - loss: 5.1239 - mae: 5.6091\n",
            "Epoch 12/50\n",
            "31/31 [==============================] - 1s 27ms/step - loss: 5.0875 - mae: 5.5607\n",
            "Epoch 13/50\n",
            "31/31 [==============================] - 1s 29ms/step - loss: 5.1759 - mae: 5.6395\n",
            "Epoch 14/50\n",
            "31/31 [==============================] - 1s 28ms/step - loss: 5.0442 - mae: 5.5261\n",
            "Epoch 15/50\n",
            "31/31 [==============================] - 1s 29ms/step - loss: 4.9599 - mae: 5.4490\n",
            "Epoch 16/50\n",
            "31/31 [==============================] - 1s 30ms/step - loss: 5.0619 - mae: 5.5271\n",
            "Epoch 17/50\n",
            "31/31 [==============================] - 1s 27ms/step - loss: 4.8941 - mae: 5.3773\n",
            "Epoch 18/50\n",
            "31/31 [==============================] - 1s 29ms/step - loss: 4.8627 - mae: 5.3438\n",
            "Epoch 19/50\n",
            "31/31 [==============================] - 1s 28ms/step - loss: 4.9040 - mae: 5.3924\n",
            "Epoch 20/50\n",
            "31/31 [==============================] - 1s 28ms/step - loss: 4.8611 - mae: 5.3115\n",
            "Epoch 21/50\n",
            "31/31 [==============================] - 1s 29ms/step - loss: 4.7595 - mae: 5.2344\n",
            "Epoch 22/50\n",
            "31/31 [==============================] - 1s 29ms/step - loss: 4.7553 - mae: 5.2249\n",
            "Epoch 23/50\n",
            "31/31 [==============================] - 1s 28ms/step - loss: 4.7194 - mae: 5.1948\n",
            "Epoch 24/50\n",
            "31/31 [==============================] - 1s 28ms/step - loss: 4.7030 - mae: 5.1771\n",
            "Epoch 25/50\n",
            "31/31 [==============================] - 1s 30ms/step - loss: 4.7490 - mae: 5.2396\n",
            "Epoch 26/50\n",
            "31/31 [==============================] - 1s 26ms/step - loss: 4.6584 - mae: 5.1211\n",
            "Epoch 27/50\n",
            "31/31 [==============================] - 1s 28ms/step - loss: 4.6993 - mae: 5.1544\n",
            "Epoch 28/50\n",
            "31/31 [==============================] - 1s 28ms/step - loss: 4.6642 - mae: 5.1345\n",
            "Epoch 29/50\n",
            "31/31 [==============================] - 1s 27ms/step - loss: 4.6096 - mae: 5.0920\n",
            "Epoch 30/50\n",
            "31/31 [==============================] - 1s 27ms/step - loss: 4.6083 - mae: 5.0940\n",
            "Epoch 31/50\n",
            "31/31 [==============================] - 1s 29ms/step - loss: 4.5914 - mae: 5.0763\n",
            "Epoch 32/50\n",
            "31/31 [==============================] - 1s 28ms/step - loss: 4.6171 - mae: 5.0867\n",
            "Epoch 33/50\n",
            "31/31 [==============================] - 1s 27ms/step - loss: 4.5562 - mae: 5.0233\n",
            "Epoch 34/50\n",
            "31/31 [==============================] - 1s 28ms/step - loss: 4.5586 - mae: 5.0396\n",
            "Epoch 35/50\n",
            "31/31 [==============================] - 1s 29ms/step - loss: 4.5322 - mae: 5.0047\n",
            "Epoch 36/50\n",
            "31/31 [==============================] - 1s 27ms/step - loss: 4.5382 - mae: 5.0097\n",
            "Epoch 37/50\n",
            "31/31 [==============================] - 1s 29ms/step - loss: 4.5254 - mae: 4.9901\n",
            "Epoch 38/50\n",
            "31/31 [==============================] - 1s 28ms/step - loss: 4.5317 - mae: 5.0027\n",
            "Epoch 39/50\n",
            "31/31 [==============================] - 1s 28ms/step - loss: 4.5006 - mae: 4.9788\n",
            "Epoch 40/50\n",
            "31/31 [==============================] - 1s 28ms/step - loss: 4.4655 - mae: 4.9292\n",
            "Epoch 41/50\n",
            "31/31 [==============================] - 1s 29ms/step - loss: 4.5331 - mae: 5.0234\n",
            "Epoch 42/50\n",
            "31/31 [==============================] - 1s 28ms/step - loss: 4.4297 - mae: 4.9133\n",
            "Epoch 43/50\n",
            "31/31 [==============================] - 1s 28ms/step - loss: 4.4319 - mae: 4.9018\n",
            "Epoch 44/50\n",
            "31/31 [==============================] - 1s 28ms/step - loss: 4.5026 - mae: 4.9633\n",
            "Epoch 45/50\n",
            "31/31 [==============================] - 1s 29ms/step - loss: 4.5149 - mae: 4.9921\n",
            "Epoch 46/50\n",
            "31/31 [==============================] - 1s 27ms/step - loss: 4.3995 - mae: 4.8813\n",
            "Epoch 47/50\n",
            "31/31 [==============================] - 1s 27ms/step - loss: 4.4265 - mae: 4.8984\n",
            "Epoch 48/50\n",
            "31/31 [==============================] - 1s 30ms/step - loss: 4.4035 - mae: 4.8786\n",
            "Epoch 49/50\n",
            "31/31 [==============================] - 1s 29ms/step - loss: 4.4893 - mae: 4.9584\n",
            "Epoch 50/50\n",
            "31/31 [==============================] - 1s 28ms/step - loss: 4.4004 - mae: 4.8797\n"
          ],
          "name": "stdout"
        }
      ]
    },
    {
      "cell_type": "code",
      "metadata": {
        "colab_type": "code",
        "id": "MKkic-mLdkRZ",
        "colab": {}
      },
      "source": [
        "rnn_forecast = model_forecast(model, series[..., np.newaxis], window_size)\n",
        "rnn_forecast = rnn_forecast[split_time - window_size:-1, -1, 0]"
      ],
      "execution_count": 0,
      "outputs": []
    },
    {
      "cell_type": "code",
      "metadata": {
        "colab_type": "code",
        "id": "4N1toSetdnQq",
        "colab": {
          "base_uri": "https://localhost:8080/",
          "height": 388
        },
        "outputId": "fe24887f-4ef3-4bf5-ee41-e006c6502871"
      },
      "source": [
        "plt.figure(figsize=(10, 6))\n",
        "plot_series(time_valid, x_valid)\n",
        "plot_series(time_valid, rnn_forecast)"
      ],
      "execution_count": 14,
      "outputs": [
        {
          "output_type": "display_data",
          "data": {
            "image/png": "[encoded data removed]",
            "text/plain": [
              "<Figure size 720x432 with 1 Axes>"
            ]
          },
          "metadata": {
            "tags": [],
            "needs_background": "light"
          }
        }
      ]
    },
    {
      "cell_type": "code",
      "metadata": {
        "colab_type": "code",
        "id": "ULKO3JINdqkp",
        "colab": {
          "base_uri": "https://localhost:8080/",
          "height": 34
        },
        "outputId": "a02e2f55-9139-4751-9cb0-308cc8b81401"
      },
      "source": [
        "tf.keras.metrics.mean_absolute_error(x_valid, rnn_forecast).numpy()"
      ],
      "execution_count": 15,
      "outputs": [
        {
          "output_type": "execute_result",
          "data": {
            "text/plain": [
              "6.298855"
            ]
          },
          "metadata": {
            "tags": []
          },
          "execution_count": 15
        }
      ]
    },
    {
      "cell_type": "code",
      "metadata": {
        "colab_type": "code",
        "id": "ok8LjNbbkig4",
        "colab": {
          "base_uri": "https://localhost:8080/",
          "height": 607
        },
        "outputId": "c662b4f3-83df-40eb-a73b-db9d93155903"
      },
      "source": [
        "import matplotlib.image  as mpimg\n",
        "import matplotlib.pyplot as plt\n",
        "\n",
        "#-----------------------------------------------------------\n",
        "# Retrieve a list of list results on training and test data\n",
        "# sets for each training epoch\n",
        "#-----------------------------------------------------------\n",
        "mae=history.history['mae']\n",
        "loss=history.history['loss']\n",
        "\n",
        "epochs=range(len(loss)) # Get number of epochs\n",
        "\n",
        "#------------------------------------------------\n",
        "# Plot MAE and Loss\n",
        "#------------------------------------------------\n",
        "plt.plot(epochs, mae, 'r')\n",
        "plt.plot(epochs, loss, 'b')\n",
        "plt.title('MAE and Loss')\n",
        "plt.xlabel(\"Epochs\")\n",
        "plt.ylabel(\"Accuracy\")\n",
        "plt.legend([\"MAE\", \"Loss\"])\n",
        "\n",
        "plt.figure()\n",
        "\n",
        "epochs_zoom = epochs[200:]\n",
        "mae_zoom = mae[200:]\n",
        "loss_zoom = loss[200:]\n",
        "\n",
        "#------------------------------------------------\n",
        "# Plot Zoomed MAE and Loss\n",
        "#------------------------------------------------\n",
        "plt.plot(epochs_zoom, mae_zoom, 'r')\n",
        "plt.plot(epochs_zoom, loss_zoom, 'b')\n",
        "plt.title('MAE and Loss')\n",
        "plt.xlabel(\"Epochs\")\n",
        "plt.ylabel(\"Accuracy\")\n",
        "plt.legend([\"MAE\", \"Loss\"])\n",
        "\n",
        "plt.figure()"
      ],
      "execution_count": 16,
      "outputs": [
        {
          "output_type": "execute_result",
          "data": {
            "text/plain": [
              "<Figure size 432x288 with 0 Axes>"
            ]
          },
          "metadata": {
            "tags": []
          },
          "execution_count": 16
        },
        {
          "output_type": "display_data",
          "data": {
            "image/png": "[encoded data removed]",
            "text/plain": [
              "<Figure size 432x288 with 1 Axes>"
            ]
          },
          "metadata": {
            "tags": [],
            "needs_background": "light"
          }
        },
        {
          "output_type": "display_data",
          "data": {
            "image/png": "[encoded data removed]",
            "text/plain": [
              "<Figure size 432x288 with 1 Axes>"
            ]
          },
          "metadata": {
            "tags": [],
            "needs_background": "light"
          }
        },
        {
          "output_type": "display_data",
          "data": {
            "text/plain": [
              "<Figure size 432x288 with 0 Axes>"
            ]
          },
          "metadata": {
            "tags": []
          }
        }
      ]
    }
  ]
}